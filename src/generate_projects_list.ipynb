{
 "cells": [
  {
   "cell_type": "code",
   "execution_count": 24,
   "metadata": {
    "collapsed": true
   },
   "outputs": [],
   "source": [
    "import pandas as pd\n",
    "import requests\n",
    "import numpy as np"
   ]
  },
  {
   "cell_type": "code",
   "execution_count": 3,
   "metadata": {
    "collapsed": false
   },
   "outputs": [],
   "source": [
    "# Load project registration data\n",
    "data = pd.read_csv('./data/Docathon Project registration.csv')\n",
    "\n",
    "# List the project info\n",
    "s = []\n",
    "for ix, row in data.iterrows():\n",
    "    url = row['Documentation URL']\n",
    "    if isinstance(url, float):\n",
    "        url = 'http://bids.github.io/docathon'\n",
    "    if not url.startswith('http'):\n",
    "        url = 'http://' + url\n",
    "    s.append('* [{}]({})\\n'.format(row['Name of the project'], url))"
   ]
  },
  {
   "cell_type": "code",
   "execution_count": 74,
   "metadata": {
    "collapsed": true
   },
   "outputs": [],
   "source": [
    "# Read current lines\n",
    "with open('../blog/content/pages/participate.md', 'r') as ff:\n",
    "    lines = ff.readlines()\n",
    "\n",
    "# Remove everything between `---`\n",
    "ixs = [ii for ii, ln in enumerate(lines) if '---' in ln]    \n",
    "for ix in range(ixs[0] + 1, ixs[1])[::-1]:\n",
    "    lines.pop(ix)\n",
    "\n",
    "# Insert new projects\n",
    "for project in s:\n",
    "    lines.insert(ixs[0] + 1, project)\n",
    "\n",
    "# Write the file\n",
    "with open('../blog/content/pages/participate.md', 'w') as ff:\n",
    "    ff.writelines(lines)"
   ]
  },
  {
   "cell_type": "code",
   "execution_count": null,
   "metadata": {
    "collapsed": true
   },
   "outputs": [],
   "source": []
  }
 ],
 "metadata": {
  "kernelspec": {
   "display_name": "Python 3",
   "language": "python",
   "name": "python3"
  },
  "language_info": {
   "codemirror_mode": {
    "name": "ipython",
    "version": 3
   },
   "file_extension": ".py",
   "mimetype": "text/x-python",
   "name": "python",
   "nbconvert_exporter": "python",
   "pygments_lexer": "ipython3",
   "version": "3.5.2"
  }
 },
 "nbformat": 4,
 "nbformat_minor": 2
}
