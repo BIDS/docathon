{
 "cells": [
  {
   "cell_type": "code",
   "execution_count": 35,
   "metadata": {
    "collapsed": true,
    "deletable": true,
    "editable": true
   },
   "outputs": [],
   "source": [
    "import pandas as pd\n",
    "from tabulate import tabulate\n",
    "import shutil as sh\n",
    "import numpy as np\n",
    "from IPython.display import HTML\n"
   ]
  },
  {
   "cell_type": "code",
   "execution_count": 36,
   "metadata": {
    "collapsed": true,
    "deletable": true,
    "editable": true
   },
   "outputs": [],
   "source": [
    "def make_bold(a):\n",
    "    return '**{}**'.format(a)"
   ]
  },
  {
   "cell_type": "code",
   "execution_count": 37,
   "metadata": {
    "collapsed": true,
    "deletable": true,
    "editable": true
   },
   "outputs": [],
   "source": [
    "pd.set_option('display.max_colwidth', 100)"
   ]
  },
  {
   "cell_type": "code",
   "execution_count": 38,
   "metadata": {
    "collapsed": false,
    "deletable": true,
    "editable": true
   },
   "outputs": [],
   "source": [
    "data = pd.read_csv('./data/Schedule - Sheet1.csv', index_col=0, skiprows=[1])\n",
    "data.index.name = 'time'\n",
    "data = data.replace(np.nan, '--')\n",
    "# data.columns = data.columns.map(make_bold)\n",
    "# data.index = data.index.map(make_bold)"
   ]
  },
  {
   "cell_type": "code",
   "execution_count": 39,
   "metadata": {
    "collapsed": false,
    "deletable": true,
    "editable": true
   },
   "outputs": [],
   "source": [
    "# table = tabulate(data, tablefmt='pipe', headers=data.columns,\n",
    "#                  numalign='center', stralign='center')\n",
    "def make_center(a):\n",
    "    return 'text-align: center'\n",
    "style = data.style.applymap(make_center)\n",
    "\n",
    "\n",
    "def hover(hover_color=\"#ffff99\"):\n",
    "    return dict(selector=\"tr:hover\",\n",
    "                props=[(\"background-color\", \"%s\" % hover_color)])\n",
    "\n",
    "styles = [\n",
    "    hover(),\n",
    "    dict(selector=\"th\", props=[(\"font-size\", \"120%\"),\n",
    "                               (\"text-align\", \"center\"),\n",
    "                               ('font-weight', \"bold\")]),\n",
    "    dict(selector=\"td\", props=[(\"width\", \"200px\")])\n",
    "]\n",
    "style = style.set_table_styles(styles)"
   ]
  },
  {
   "cell_type": "code",
   "execution_count": 40,
   "metadata": {
    "collapsed": true,
    "deletable": true,
    "editable": true
   },
   "outputs": [],
   "source": [
    "table = style.render()\n",
    "table = '\\n'.join(ii.strip() for ii in table.split('\\n'))"
   ]
  },
  {
   "cell_type": "code",
   "execution_count": 41,
   "metadata": {
    "collapsed": false,
    "deletable": true,
    "editable": true
   },
   "outputs": [
    {
     "name": "stdout",
     "output_type": "stream",
     "text": [
      "###SCHEDULE###\n",
      "\n"
     ]
    }
   ],
   "source": [
    "with open('./data/bids.md', 'r') as ff:\n",
    "    lines = ff.readlines()\n",
    "\n",
    "for ii, line in enumerate(lines):\n",
    "    if '###SCHEDULE###' in line:\n",
    "        print(line)\n",
    "        lines[ii] = table\n",
    "        lines.insert(ii+1, '\\n')\n",
    "\n",
    "with open('../blog/content/pages/hosts/bids.md', 'w') as ff:\n",
    "    ff.writelines(lines)"
   ]
  },
  {
   "cell_type": "code",
   "execution_count": null,
   "metadata": {
    "collapsed": true,
    "deletable": true,
    "editable": true
   },
   "outputs": [],
   "source": []
  }
 ],
 "metadata": {
  "kernelspec": {
   "display_name": "Python 3",
   "language": "python",
   "name": "python3"
  },
  "language_info": {
   "codemirror_mode": {
    "name": "ipython",
    "version": 3
   },
   "file_extension": ".py",
   "mimetype": "text/x-python",
   "name": "python",
   "nbconvert_exporter": "python",
   "pygments_lexer": "ipython3",
   "version": "3.5.2"
  }
 },
 "nbformat": 4,
 "nbformat_minor": 2
}
